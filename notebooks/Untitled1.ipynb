{
 "cells": [
  {
   "cell_type": "markdown",
   "metadata": {},
   "source": [
    "# Article"
   ]
  },
  {
   "cell_type": "code",
   "execution_count": null,
   "metadata": {},
   "outputs": [],
   "source": []
  },
  {
   "cell_type": "code",
   "execution_count": null,
   "metadata": {},
   "outputs": [],
   "source": [
    "import numpy as np\n",
    "import pandas as pd"
   ]
  },
  {
   "cell_type": "code",
   "execution_count": 21,
   "metadata": {},
   "outputs": [
    {
     "name": "stdout",
     "output_type": "stream",
     "text": [
      "np.nan == np.nan >>>  False\n",
      "np.nan is np.nan >>>  True\n",
      "None == None     >>>  True\n",
      "None is None     >>>  True\n"
     ]
    }
   ],
   "source": [
    "print(\"np.nan == np.nan >>> \", np.nan == np.nan)\n",
    "print(\"np.nan is np.nan >>> \", np.nan is np.nan)\n",
    "\n",
    "print(\"None == None     >>> \", None == None)\n",
    "print(\"None is None     >>> \", None is None)"
   ]
  },
  {
   "cell_type": "code",
   "execution_count": 31,
   "metadata": {},
   "outputs": [
    {
     "name": "stdout",
     "output_type": "stream",
     "text": [
      "np.isnan(np.nan) >>>  True\n"
     ]
    }
   ],
   "source": [
    "print(\"np.isnan(np.nan) >>> \", np.isnan(np.nan))"
   ]
  },
  {
   "cell_type": "code",
   "execution_count": 36,
   "metadata": {},
   "outputs": [
    {
     "name": "stdout",
     "output_type": "stream",
     "text": [
      "ufunc 'isnan' not supported for the input types, and the inputs could not be safely coerced to any supported types according to the casting rule ''safe''\n"
     ]
    }
   ],
   "source": [
    "try:\n",
    "    np.isnan(None)\n",
    "except TypeEnrror as e:\n",
    "    print(e)"
   ]
  },
  {
   "cell_type": "code",
   "execution_count": 27,
   "metadata": {},
   "outputs": [
    {
     "name": "stdout",
     "output_type": "stream",
     "text": [
      "pd.isna(np.nan) >>>  True\n",
      "pd.isna(pd.NaT) >>>  True\n",
      "pd.isna(None)   >>>  True\n"
     ]
    }
   ],
   "source": [
    "print(\"pd.isna(np.nan) >>> \", pd.isna(np.nan))\n",
    "print(\"pd.isna(pd.NaT) >>> \", pd.isna(pd.NaT))\n",
    "print(\"pd.isna(None)   >>> \", pd.isna(None))"
   ]
  },
  {
   "cell_type": "code",
   "execution_count": 28,
   "metadata": {},
   "outputs": [
    {
     "data": {
      "text/plain": [
       "True"
      ]
     },
     "execution_count": 28,
     "metadata": {},
     "output_type": "execute_result"
    }
   ],
   "source": [
    "pd.isna(np.nan)\n",
    "np.isnan(np.nan)"
   ]
  },
  {
   "cell_type": "markdown",
   "metadata": {},
   "source": [
    "## Calculating Statistics"
   ]
  },
  {
   "cell_type": "code",
   "execution_count": 18,
   "metadata": {},
   "outputs": [
    {
     "name": "stdout",
     "output_type": "stream",
     "text": [
      "np.mean(data)    >>>  nan\n",
      "np.nanmean(data) >>>  2.0\n",
      "np.sum(data)     >>>  nan\n",
      "np.nansum(data)  >>>  6.0\n"
     ]
    }
   ],
   "source": [
    "data = [1.0, 2.0, 3.0, np.nan]\n",
    "\n",
    "# np.mean() vs np.nanmean()\n",
    "print(\"np.mean(data)    >>> \", np.mean(data))\n",
    "print(\"np.nanmean(data) >>> \", np.nanmean(data))\n",
    "\n",
    "# np.sum() vs np.nansum()\n",
    "print(\"np.sum(data)     >>> \", np.sum(data))\n",
    "print(\"np.nansum(data)  >>> \", np.nansum(data))"
   ]
  },
  {
   "cell_type": "code",
   "execution_count": null,
   "metadata": {},
   "outputs": [],
   "source": [
    "data = {\n",
    "    'Fruit': ['apple', 'orange', 'strawberry', 'tangerine'], \n",
    "    'Price': [1.0, np.nan, 0.1, 1.0]\n",
    "}\n",
    "df = pd.DataFrame(data)\n",
    "print(df)"
   ]
  },
  {
   "cell_type": "code",
   "execution_count": 7,
   "metadata": {},
   "outputs": [
    {
     "name": "stdout",
     "output_type": "stream",
     "text": [
      "{0.1: Int64Index([2], dtype='int64'), 1.0: Int64Index([0, 3], dtype='int64')}\n"
     ]
    }
   ],
   "source": [
    "g_obj = df.groupby(by='Price')\n",
    "print(g_obj.groups)"
   ]
  },
  {
   "cell_type": "code",
   "execution_count": 8,
   "metadata": {},
   "outputs": [
    {
     "name": "stdout",
     "output_type": "stream",
     "text": [
      "pd.isna(pd.NaT) --> True\n",
      "True\n",
      "True\n"
     ]
    }
   ],
   "source": []
  },
  {
   "cell_type": "code",
   "execution_count": 13,
   "metadata": {},
   "outputs": [
    {
     "name": "stdout",
     "output_type": "stream",
     "text": [
      "        Fruit  Price Price2\n",
      "0       apple    1.0    1.0\n",
      "1      orange    NaN    NaN\n",
      "2  strawberry    0.1    0.1\n",
      "3   tangerine    1.0    1.0\n"
     ]
    },
    {
     "data": {
      "text/plain": [
       "Float64Index([0.1, 1.0], dtype='float64')"
      ]
     },
     "execution_count": 13,
     "metadata": {},
     "output_type": "execute_result"
    }
   ],
   "source": [
    "df['Price2'] = pd.Categorical(df['Price'])\n",
    "print(df)\n",
    "df['Price2'].cat.categories"
   ]
  },
  {
   "cell_type": "code",
   "execution_count": null,
   "metadata": {},
   "outputs": [],
   "source": []
  }
 ],
 "metadata": {
  "kernelspec": {
   "display_name": "Python 3",
   "language": "python",
   "name": "python3"
  },
  "language_info": {
   "codemirror_mode": {
    "name": "ipython",
    "version": 3
   },
   "file_extension": ".py",
   "mimetype": "text/x-python",
   "name": "python",
   "nbconvert_exporter": "python",
   "pygments_lexer": "ipython3",
   "version": "3.7.3"
  }
 },
 "nbformat": 4,
 "nbformat_minor": 4
}
